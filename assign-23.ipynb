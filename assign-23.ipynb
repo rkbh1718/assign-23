{
 "cells": [
  {
   "cell_type": "markdown",
   "id": "0524f817",
   "metadata": {},
   "source": [
    "# 1. What is the result of the code, and why?\n"
   ]
  },
  {
   "cell_type": "code",
   "execution_count": 12,
   "id": "246f7899",
   "metadata": {},
   "outputs": [
    {
     "name": "stdout",
     "output_type": "stream",
     "text": [
      "1 2 8\n"
     ]
    }
   ],
   "source": [
    "def fun(a, b=6 ,c =8):\n",
    "    print(a,b,c)\n",
    "fun(1,2)"
   ]
  },
  {
   "cell_type": "code",
   "execution_count": null,
   "id": "bac8b74f",
   "metadata": {},
   "outputs": [],
   "source": [
    "why it is printing this bcz in fun except a we defined b and c  value and whwn we are calling fun with 2 arg then it is going to override b value and a's value assigned to a"
   ]
  },
  {
   "cell_type": "code",
   "execution_count": null,
   "id": "1e6673c0",
   "metadata": {},
   "outputs": [],
   "source": [
    "2. What is the result of this code, and why?"
   ]
  },
  {
   "cell_type": "code",
   "execution_count": 13,
   "id": "15cf892a",
   "metadata": {},
   "outputs": [
    {
     "name": "stdout",
     "output_type": "stream",
     "text": [
      "1 4 3\n"
     ]
    }
   ],
   "source": [
    "def fun(a, b, c =6):\n",
    "    print(a,b,c)\n",
    "fun(1, c =3 , b= 4)"
   ]
  },
  {
   "cell_type": "code",
   "execution_count": null,
   "id": "86cc3207",
   "metadata": {},
   "outputs": [],
   "source": [
    "no need to explain it is simple "
   ]
  },
  {
   "cell_type": "code",
   "execution_count": null,
   "id": "2036f05f",
   "metadata": {},
   "outputs": [],
   "source": [
    "3. How about this code: what is its result, and why?"
   ]
  },
  {
   "cell_type": "code",
   "execution_count": 14,
   "id": "fe34b62d",
   "metadata": {},
   "outputs": [
    {
     "name": "stdout",
     "output_type": "stream",
     "text": [
      "1 (2, 3)\n"
     ]
    }
   ],
   "source": [
    "def func(a, *pargs):\n",
    "    print(a, pargs)\n",
    "func(1,2,3)"
   ]
  },
  {
   "cell_type": "code",
   "execution_count": null,
   "id": "fa99b085",
   "metadata": {},
   "outputs": [],
   "source": [
    "the argumnet *args is taking multiple input andgiving output as tuple, so a =1 and rest is belongds to *args"
   ]
  },
  {
   "cell_type": "code",
   "execution_count": null,
   "id": "791a6554",
   "metadata": {},
   "outputs": [],
   "source": [
    "4. What does this code print, and why?"
   ]
  },
  {
   "cell_type": "code",
   "execution_count": 15,
   "id": "8c657c27",
   "metadata": {},
   "outputs": [
    {
     "name": "stdout",
     "output_type": "stream",
     "text": [
      "1 {'c': 2, 'b': 3}\n"
     ]
    }
   ],
   "source": [
    "def func(a, **kargs):\n",
    "    print(a, kargs)\n",
    "    \n",
    "func(a =1, c =2, b =3)"
   ]
  },
  {
   "cell_type": "code",
   "execution_count": null,
   "id": "dac376ae",
   "metadata": {},
   "outputs": [],
   "source": [
    "as we know **kwargs is taking input as assinment and giving ouput as key value pauir i.e dictonary"
   ]
  },
  {
   "cell_type": "code",
   "execution_count": null,
   "id": "3b41fc0a",
   "metadata": {},
   "outputs": [],
   "source": [
    "5. What gets printed by this, and explain?"
   ]
  },
  {
   "cell_type": "code",
   "execution_count": 20,
   "id": "88867227",
   "metadata": {},
   "outputs": [
    {
     "name": "stdout",
     "output_type": "stream",
     "text": [
      "1 (5, 6) 8 4\n"
     ]
    }
   ],
   "source": [
    "def func(a,b, c=8, d=4): \n",
    "    print(a,b,c,d)\n",
    "func(1,(5,6))"
   ]
  },
  {
   "cell_type": "code",
   "execution_count": 21,
   "id": "f47eb234",
   "metadata": {},
   "outputs": [
    {
     "name": "stdout",
     "output_type": "stream",
     "text": [
      "1 5 6 4\n"
     ]
    }
   ],
   "source": [
    "def func(a,b, c=8, d=4): \n",
    "    print(a,b,c,d)\n",
    "func(1,*(5,6))"
   ]
  },
  {
   "cell_type": "code",
   "execution_count": null,
   "id": "37491efd",
   "metadata": {},
   "outputs": [],
   "source": [
    "see both the execuion nd try to understand its easy right"
   ]
  },
  {
   "cell_type": "code",
   "execution_count": null,
   "id": "601949c1",
   "metadata": {},
   "outputs": [],
   "source": [
    "6. what is the result of this, and explain?"
   ]
  },
  {
   "cell_type": "code",
   "execution_count": 31,
   "id": "b6edd4f0",
   "metadata": {},
   "outputs": [
    {
     "ename": "IndentationError",
     "evalue": "unexpected indent (<ipython-input-31-20b1fd94ce24>, line 2)",
     "output_type": "error",
     "traceback": [
      "\u001b[1;36m  File \u001b[1;32m\"<ipython-input-31-20b1fd94ce24>\"\u001b[1;36m, line \u001b[1;32m2\u001b[0m\n\u001b[1;33m    l=1; m=[1] ;n={'a':0}\u001b[0m\n\u001b[1;37m    ^\u001b[0m\n\u001b[1;31mIndentationError\u001b[0m\u001b[1;31m:\u001b[0m unexpected indent\n"
     ]
    }
   ],
   "source": [
    "def func(a, b, c):  a=2;  b[0]='x'; c['a']='y'\n",
    "    l=1; m=[1] ;n={'a':0}\n",
    "    \n",
    "func(l,m,n)\n"
   ]
  },
  {
   "cell_type": "code",
   "execution_count": 30,
   "id": "1830952c",
   "metadata": {},
   "outputs": [
    {
     "ename": "NameError",
     "evalue": "name 'n' is not defined",
     "output_type": "error",
     "traceback": [
      "\u001b[1;31m---------------------------------------------------------------------------\u001b[0m",
      "\u001b[1;31mNameError\u001b[0m                                 Traceback (most recent call last)",
      "\u001b[1;32m<ipython-input-30-349653be3a92>\u001b[0m in \u001b[0;36m<module>\u001b[1;34m\u001b[0m\n\u001b[1;32m----> 1\u001b[1;33m \u001b[0mprint\u001b[0m\u001b[1;33m(\u001b[0m\u001b[0mn\u001b[0m\u001b[1;33m)\u001b[0m\u001b[1;33m\u001b[0m\u001b[1;33m\u001b[0m\u001b[0m\n\u001b[0m",
      "\u001b[1;31mNameError\u001b[0m: name 'n' is not defined"
     ]
    }
   ],
   "source": [
    "not table to identify question my fault plz make it runable"
   ]
  },
  {
   "cell_type": "code",
   "execution_count": null,
   "id": "8bc98c89",
   "metadata": {},
   "outputs": [],
   "source": []
  }
 ],
 "metadata": {
  "kernelspec": {
   "display_name": "Python 3",
   "language": "python",
   "name": "python3"
  },
  "language_info": {
   "codemirror_mode": {
    "name": "ipython",
    "version": 3
   },
   "file_extension": ".py",
   "mimetype": "text/x-python",
   "name": "python",
   "nbconvert_exporter": "python",
   "pygments_lexer": "ipython3",
   "version": "3.8.8"
  }
 },
 "nbformat": 4,
 "nbformat_minor": 5
}
